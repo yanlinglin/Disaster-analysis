{
 "cells": [
  {
   "cell_type": "markdown",
   "metadata": {},
   "source": [
    "# ML Pipeline Preparation\n",
    "Follow the instructions below to help you create your ML pipeline.\n",
    "### 1. Import libraries and load data from database.\n",
    "- Import Python libraries\n",
    "- Load dataset from database with [`read_sql_table`](https://pandas.pydata.org/pandas-docs/stable/generated/pandas.read_sql_table.html)\n",
    "- Define feature and target variables X and Y"
   ]
  },
  {
   "cell_type": "code",
   "execution_count": 28,
   "metadata": {},
   "outputs": [
    {
     "name": "stderr",
     "output_type": "stream",
     "text": [
      "[nltk_data] Downloading package punkt to /users/yanlingl/nltk_data...\n",
      "[nltk_data]   Package punkt is already up-to-date!\n",
      "[nltk_data] Downloading package wordnet to\n",
      "[nltk_data]     /users/yanlingl/nltk_data...\n",
      "[nltk_data]   Package wordnet is already up-to-date!\n"
     ]
    }
   ],
   "source": [
    "# import libraries\n",
    "import nltk\n",
    "nltk.download(['punkt', 'wordnet'])\n",
    "\n",
    "from sqlalchemy import create_engine\n",
    "import pandas as pd\n",
    "import numpy as np\n",
    "from nltk.tokenize import word_tokenize\n",
    "from nltk.stem.wordnet import WordNetLemmatizer\n",
    "\n",
    "from sklearn.model_selection import train_test_split\n",
    "from sklearn.feature_extraction.text import CountVectorizer\n",
    "from sklearn.feature_extraction.text import TfidfTransformer\n",
    "from sklearn.multioutput import MultiOutputClassifier\n",
    "from sklearn.ensemble import RandomForestClassifier\n",
    "from sklearn.pipeline import Pipeline\n",
    "from sklearn.metrics import accuracy_score\n",
    "\n",
    "\n",
    "from sklearn.metrics import classification_report\n",
    "from sklearn.model_selection import GridSearchCV"
   ]
  },
  {
   "cell_type": "code",
   "execution_count": 29,
   "metadata": {},
   "outputs": [],
   "source": [
    "# load data from database\n",
    "engine = create_engine('sqlite:///DisasterResponse.db')\n",
    "df = pd.read_sql_table('df', engine,index_col=0)"
   ]
  },
  {
   "cell_type": "code",
   "execution_count": 30,
   "metadata": {},
   "outputs": [
    {
     "data": {
      "text/html": [
       "<div>\n",
       "<style scoped>\n",
       "    .dataframe tbody tr th:only-of-type {\n",
       "        vertical-align: middle;\n",
       "    }\n",
       "\n",
       "    .dataframe tbody tr th {\n",
       "        vertical-align: top;\n",
       "    }\n",
       "\n",
       "    .dataframe thead th {\n",
       "        text-align: right;\n",
       "    }\n",
       "</style>\n",
       "<table border=\"1\" class=\"dataframe\">\n",
       "  <thead>\n",
       "    <tr style=\"text-align: right;\">\n",
       "      <th></th>\n",
       "      <th>id</th>\n",
       "      <th>message</th>\n",
       "      <th>original</th>\n",
       "      <th>genre</th>\n",
       "      <th>related</th>\n",
       "      <th>request</th>\n",
       "      <th>offer</th>\n",
       "      <th>aid_related</th>\n",
       "      <th>medical_help</th>\n",
       "      <th>medical_products</th>\n",
       "      <th>...</th>\n",
       "      <th>aid_centers</th>\n",
       "      <th>other_infrastructure</th>\n",
       "      <th>weather_related</th>\n",
       "      <th>floods</th>\n",
       "      <th>storm</th>\n",
       "      <th>fire</th>\n",
       "      <th>earthquake</th>\n",
       "      <th>cold</th>\n",
       "      <th>other_weather</th>\n",
       "      <th>direct_report</th>\n",
       "    </tr>\n",
       "  </thead>\n",
       "  <tbody>\n",
       "    <tr>\n",
       "      <th>0</th>\n",
       "      <td>2</td>\n",
       "      <td>Weather update - a cold front from Cuba that c...</td>\n",
       "      <td>Un front froid se retrouve sur Cuba ce matin. ...</td>\n",
       "      <td>direct</td>\n",
       "      <td>1</td>\n",
       "      <td>0</td>\n",
       "      <td>0</td>\n",
       "      <td>0</td>\n",
       "      <td>0</td>\n",
       "      <td>0</td>\n",
       "      <td>...</td>\n",
       "      <td>0</td>\n",
       "      <td>0</td>\n",
       "      <td>0</td>\n",
       "      <td>0</td>\n",
       "      <td>0</td>\n",
       "      <td>0</td>\n",
       "      <td>0</td>\n",
       "      <td>0</td>\n",
       "      <td>0</td>\n",
       "      <td>0</td>\n",
       "    </tr>\n",
       "    <tr>\n",
       "      <th>1</th>\n",
       "      <td>7</td>\n",
       "      <td>Is the Hurricane over or is it not over</td>\n",
       "      <td>Cyclone nan fini osinon li pa fini</td>\n",
       "      <td>direct</td>\n",
       "      <td>1</td>\n",
       "      <td>0</td>\n",
       "      <td>0</td>\n",
       "      <td>1</td>\n",
       "      <td>0</td>\n",
       "      <td>0</td>\n",
       "      <td>...</td>\n",
       "      <td>0</td>\n",
       "      <td>0</td>\n",
       "      <td>1</td>\n",
       "      <td>0</td>\n",
       "      <td>1</td>\n",
       "      <td>0</td>\n",
       "      <td>0</td>\n",
       "      <td>0</td>\n",
       "      <td>0</td>\n",
       "      <td>0</td>\n",
       "    </tr>\n",
       "    <tr>\n",
       "      <th>2</th>\n",
       "      <td>8</td>\n",
       "      <td>Looking for someone but no name</td>\n",
       "      <td>Patnm, di Maryani relem pou li banm nouvel li ...</td>\n",
       "      <td>direct</td>\n",
       "      <td>1</td>\n",
       "      <td>0</td>\n",
       "      <td>0</td>\n",
       "      <td>0</td>\n",
       "      <td>0</td>\n",
       "      <td>0</td>\n",
       "      <td>...</td>\n",
       "      <td>0</td>\n",
       "      <td>0</td>\n",
       "      <td>0</td>\n",
       "      <td>0</td>\n",
       "      <td>0</td>\n",
       "      <td>0</td>\n",
       "      <td>0</td>\n",
       "      <td>0</td>\n",
       "      <td>0</td>\n",
       "      <td>0</td>\n",
       "    </tr>\n",
       "    <tr>\n",
       "      <th>3</th>\n",
       "      <td>9</td>\n",
       "      <td>UN reports Leogane 80-90 destroyed. Only Hospi...</td>\n",
       "      <td>UN reports Leogane 80-90 destroyed. Only Hospi...</td>\n",
       "      <td>direct</td>\n",
       "      <td>1</td>\n",
       "      <td>1</td>\n",
       "      <td>0</td>\n",
       "      <td>1</td>\n",
       "      <td>0</td>\n",
       "      <td>1</td>\n",
       "      <td>...</td>\n",
       "      <td>0</td>\n",
       "      <td>0</td>\n",
       "      <td>0</td>\n",
       "      <td>0</td>\n",
       "      <td>0</td>\n",
       "      <td>0</td>\n",
       "      <td>0</td>\n",
       "      <td>0</td>\n",
       "      <td>0</td>\n",
       "      <td>0</td>\n",
       "    </tr>\n",
       "    <tr>\n",
       "      <th>4</th>\n",
       "      <td>12</td>\n",
       "      <td>says: west side of Haiti, rest of the country ...</td>\n",
       "      <td>facade ouest d Haiti et le reste du pays aujou...</td>\n",
       "      <td>direct</td>\n",
       "      <td>1</td>\n",
       "      <td>0</td>\n",
       "      <td>0</td>\n",
       "      <td>0</td>\n",
       "      <td>0</td>\n",
       "      <td>0</td>\n",
       "      <td>...</td>\n",
       "      <td>0</td>\n",
       "      <td>0</td>\n",
       "      <td>0</td>\n",
       "      <td>0</td>\n",
       "      <td>0</td>\n",
       "      <td>0</td>\n",
       "      <td>0</td>\n",
       "      <td>0</td>\n",
       "      <td>0</td>\n",
       "      <td>0</td>\n",
       "    </tr>\n",
       "  </tbody>\n",
       "</table>\n",
       "<p>5 rows × 40 columns</p>\n",
       "</div>"
      ],
      "text/plain": [
       "   id                                            message  \\\n",
       "0   2  Weather update - a cold front from Cuba that c...   \n",
       "1   7            Is the Hurricane over or is it not over   \n",
       "2   8                    Looking for someone but no name   \n",
       "3   9  UN reports Leogane 80-90 destroyed. Only Hospi...   \n",
       "4  12  says: west side of Haiti, rest of the country ...   \n",
       "\n",
       "                                            original   genre  related  \\\n",
       "0  Un front froid se retrouve sur Cuba ce matin. ...  direct        1   \n",
       "1                 Cyclone nan fini osinon li pa fini  direct        1   \n",
       "2  Patnm, di Maryani relem pou li banm nouvel li ...  direct        1   \n",
       "3  UN reports Leogane 80-90 destroyed. Only Hospi...  direct        1   \n",
       "4  facade ouest d Haiti et le reste du pays aujou...  direct        1   \n",
       "\n",
       "   request  offer  aid_related  medical_help  medical_products  ...  \\\n",
       "0        0      0            0             0                 0  ...   \n",
       "1        0      0            1             0                 0  ...   \n",
       "2        0      0            0             0                 0  ...   \n",
       "3        1      0            1             0                 1  ...   \n",
       "4        0      0            0             0                 0  ...   \n",
       "\n",
       "   aid_centers  other_infrastructure  weather_related  floods  storm  fire  \\\n",
       "0            0                     0                0       0      0     0   \n",
       "1            0                     0                1       0      1     0   \n",
       "2            0                     0                0       0      0     0   \n",
       "3            0                     0                0       0      0     0   \n",
       "4            0                     0                0       0      0     0   \n",
       "\n",
       "   earthquake  cold  other_weather  direct_report  \n",
       "0           0     0              0              0  \n",
       "1           0     0              0              0  \n",
       "2           0     0              0              0  \n",
       "3           0     0              0              0  \n",
       "4           0     0              0              0  \n",
       "\n",
       "[5 rows x 40 columns]"
      ]
     },
     "execution_count": 30,
     "metadata": {},
     "output_type": "execute_result"
    }
   ],
   "source": [
    "df.head()"
   ]
  },
  {
   "cell_type": "code",
   "execution_count": 31,
   "metadata": {},
   "outputs": [],
   "source": [
    "X = df['message']\n",
    "Y = df[df.columns[4:-1]]"
   ]
  },
  {
   "cell_type": "markdown",
   "metadata": {},
   "source": [
    "### 2. Write a tokenization function to process your text data"
   ]
  },
  {
   "cell_type": "code",
   "execution_count": 32,
   "metadata": {},
   "outputs": [],
   "source": [
    "def tokenize(text):\n",
    "    tokens = word_tokenize(text)\n",
    "    lemmatizer = WordNetLemmatizer()\n",
    "\n",
    "    clean_tokens = []\n",
    "    for tok in tokens:\n",
    "        clean_tok = lemmatizer.lemmatize(tok).lower().strip()\n",
    "        clean_tokens.append(clean_tok)\n",
    "\n",
    "    return clean_tokens"
   ]
  },
  {
   "cell_type": "markdown",
   "metadata": {},
   "source": [
    "### 3. Build a machine learning pipeline\n",
    "This machine pipeline should take in the `message` column as input and output classification results on the other 36 categories in the dataset. You may find the [MultiOutputClassifier](http://scikit-learn.org/stable/modules/generated/sklearn.multioutput.MultiOutputClassifier.html) helpful for predicting multiple target variables."
   ]
  },
  {
   "cell_type": "code",
   "execution_count": 33,
   "metadata": {},
   "outputs": [],
   "source": [
    "vect = CountVectorizer(tokenizer=tokenize)\n",
    "tfidf = TfidfTransformer()\n",
    "pipeline = Pipeline([('vect',CountVectorizer(tokenizer=tokenize)),\n",
    "                     ('tfidf',TfidfTransformer()),\n",
    "                     ('MOC', MultiOutputClassifier(RandomForestClassifier()))])"
   ]
  },
  {
   "cell_type": "markdown",
   "metadata": {},
   "source": [
    "### 4. Train pipeline\n",
    "- Split data into train and test sets\n",
    "- Train pipeline"
   ]
  },
  {
   "cell_type": "code",
   "execution_count": 34,
   "metadata": {},
   "outputs": [],
   "source": [
    "X_train, X_test, y_train, y_test = train_test_split(X,Y)"
   ]
  },
  {
   "cell_type": "code",
   "execution_count": 35,
   "metadata": {},
   "outputs": [
    {
     "name": "stdout",
     "output_type": "stream",
     "text": [
      "(19662,)\n",
      "(19662, 35)\n"
     ]
    }
   ],
   "source": [
    "print(X_train.shape)\n",
    "print(y_train.shape)"
   ]
  },
  {
   "cell_type": "code",
   "execution_count": 36,
   "metadata": {},
   "outputs": [
    {
     "name": "stdout",
     "output_type": "stream",
     "text": [
      "CPU times: user 7min 36s, sys: 560 ms, total: 7min 37s\n",
      "Wall time: 7min 37s\n"
     ]
    },
    {
     "data": {
      "text/plain": [
       "Pipeline(steps=[('vect',\n",
       "                 CountVectorizer(tokenizer=<function tokenize at 0x2aaaf62079e0>)),\n",
       "                ('tfidf', TfidfTransformer()),\n",
       "                ('MOC',\n",
       "                 MultiOutputClassifier(estimator=RandomForestClassifier()))])"
      ]
     },
     "execution_count": 36,
     "metadata": {},
     "output_type": "execute_result"
    }
   ],
   "source": [
    "%%time\n",
    "pipeline.fit(X_train, y_train)"
   ]
  },
  {
   "cell_type": "code",
   "execution_count": null,
   "metadata": {},
   "outputs": [],
   "source": []
  },
  {
   "cell_type": "markdown",
   "metadata": {},
   "source": [
    "### 5. Test your model\n",
    "Report the f1 score, precision and recall for each output category of the dataset. You can do this by iterating through the columns and calling sklearn's `classification_report` on each."
   ]
  },
  {
   "cell_type": "code",
   "execution_count": 10,
   "metadata": {},
   "outputs": [],
   "source": [
    "predicted=pipeline.predict(X_test)"
   ]
  },
  {
   "cell_type": "code",
   "execution_count": 11,
   "metadata": {},
   "outputs": [
    {
     "data": {
      "text/plain": [
       "0.9484284406469332"
      ]
     },
     "execution_count": 11,
     "metadata": {},
     "output_type": "execute_result"
    }
   ],
   "source": [
    "overall_accuracy = (predicted == y_test).mean().mean()\n",
    "overall_accuracy"
   ]
  },
  {
   "cell_type": "code",
   "execution_count": 12,
   "metadata": {},
   "outputs": [
    {
     "name": "stdout",
     "output_type": "stream",
     "text": [
      "                        precision    recall  f1-score   support\n",
      "\n",
      "               related       0.80      0.97      0.88      4984\n",
      "               request       0.91      0.44      0.59      1134\n",
      "                 offer       0.00      0.00      0.00        29\n",
      "           aid_related       0.79      0.62      0.70      2691\n",
      "          medical_help       0.72      0.06      0.10       522\n",
      "      medical_products       0.63      0.06      0.11       317\n",
      "     search_and_rescue       0.60      0.03      0.06       177\n",
      "              security       0.50      0.01      0.02       114\n",
      "              military       0.67      0.06      0.12       190\n",
      "           child_alone       0.00      0.00      0.00         0\n",
      "                 water       0.94      0.23      0.37       429\n",
      "                  food       0.90      0.42      0.57       729\n",
      "               shelter       0.88      0.26      0.40       581\n",
      "              clothing       0.71      0.06      0.11        87\n",
      "                 money       0.80      0.03      0.05       154\n",
      "        missing_people       1.00      0.03      0.06        62\n",
      "              refugees       0.75      0.03      0.05       211\n",
      "                 death       0.79      0.10      0.18       301\n",
      "             other_aid       0.73      0.01      0.02       844\n",
      "infrastructure_related       0.00      0.00      0.00       450\n",
      "             transport       0.80      0.05      0.10       302\n",
      "             buildings       0.82      0.05      0.10       350\n",
      "           electricity       0.83      0.04      0.07       132\n",
      "                 tools       0.00      0.00      0.00        41\n",
      "             hospitals       0.00      0.00      0.00        80\n",
      "                 shops       0.00      0.00      0.00        23\n",
      "           aid_centers       0.00      0.00      0.00        82\n",
      "  other_infrastructure       0.00      0.00      0.00       303\n",
      "       weather_related       0.86      0.62      0.72      1816\n",
      "                floods       0.91      0.34      0.50       544\n",
      "                 storm       0.82      0.46      0.59       631\n",
      "                  fire       0.50      0.02      0.03        63\n",
      "            earthquake       0.87      0.74      0.80       587\n",
      "                  cold       0.73      0.06      0.11       136\n",
      "         other_weather       0.40      0.01      0.01       355\n",
      "\n",
      "             micro avg       0.82      0.50      0.62     19451\n",
      "             macro avg       0.59      0.17      0.21     19451\n",
      "          weighted avg       0.76      0.50      0.54     19451\n",
      "           samples avg       0.69      0.47      0.52     19451\n",
      "\n"
     ]
    },
    {
     "name": "stderr",
     "output_type": "stream",
     "text": [
      "/users/yanlingl/.conda/envs/yl_ML/lib/python3.7/site-packages/sklearn/metrics/_classification.py:1221: UndefinedMetricWarning: Precision and F-score are ill-defined and being set to 0.0 in labels with no predicted samples. Use `zero_division` parameter to control this behavior.\n",
      "  _warn_prf(average, modifier, msg_start, len(result))\n",
      "/users/yanlingl/.conda/envs/yl_ML/lib/python3.7/site-packages/sklearn/metrics/_classification.py:1221: UndefinedMetricWarning: Recall and F-score are ill-defined and being set to 0.0 in labels with no true samples. Use `zero_division` parameter to control this behavior.\n",
      "  _warn_prf(average, modifier, msg_start, len(result))\n",
      "/users/yanlingl/.conda/envs/yl_ML/lib/python3.7/site-packages/sklearn/metrics/_classification.py:1221: UndefinedMetricWarning: Precision and F-score are ill-defined and being set to 0.0 in samples with no predicted labels. Use `zero_division` parameter to control this behavior.\n",
      "  _warn_prf(average, modifier, msg_start, len(result))\n",
      "/users/yanlingl/.conda/envs/yl_ML/lib/python3.7/site-packages/sklearn/metrics/_classification.py:1221: UndefinedMetricWarning: Recall and F-score are ill-defined and being set to 0.0 in samples with no true labels. Use `zero_division` parameter to control this behavior.\n",
      "  _warn_prf(average, modifier, msg_start, len(result))\n"
     ]
    }
   ],
   "source": [
    "print(classification_report(y_test.values, predicted, target_names=Y.columns.values))"
   ]
  },
  {
   "cell_type": "code",
   "execution_count": 13,
   "metadata": {},
   "outputs": [
    {
     "name": "stdout",
     "output_type": "stream",
     "text": [
      "['related']\n"
     ]
    }
   ],
   "source": [
    "#see if the trained model produces reasonable result.\n",
    "msg = ['Help! I was trapped in my apartment there is fire ']\n",
    "test_output = pipeline.predict(msg)\n",
    "print(y_train.columns.values[(test_output.flatten()==1)])"
   ]
  },
  {
   "cell_type": "code",
   "execution_count": 14,
   "metadata": {},
   "outputs": [
    {
     "name": "stdout",
     "output_type": "stream",
     "text": [
      "['related' 'aid_related']\n"
     ]
    }
   ],
   "source": [
    "msg = [' Hello I see fire in the street and many houses are destroyed, homeless people everywhere']\n",
    "test_output = pipeline.predict(msg)\n",
    "print(y_train.columns.values[(test_output.flatten()==1)])"
   ]
  },
  {
   "cell_type": "code",
   "execution_count": 15,
   "metadata": {},
   "outputs": [
    {
     "data": {
      "text/plain": [
       "{'cat_0': '              precision    recall  f1-score   support\\n\\n           0       0.73      0.25      0.37      1570\\n           1       0.80      0.97      0.88      4984\\n\\n    accuracy                           0.80      6554\\n   macro avg       0.77      0.61      0.63      6554\\nweighted avg       0.79      0.80      0.76      6554\\n',\n",
       " 'cat_1': '              precision    recall  f1-score   support\\n\\n           0       0.89      0.99      0.94      5420\\n           1       0.91      0.44      0.59      1134\\n\\n    accuracy                           0.89      6554\\n   macro avg       0.90      0.71      0.76      6554\\nweighted avg       0.90      0.89      0.88      6554\\n',\n",
       " 'cat_2': '              precision    recall  f1-score   support\\n\\n           0       1.00      1.00      1.00      6525\\n           1       0.00      0.00      0.00        29\\n\\n    accuracy                           1.00      6554\\n   macro avg       0.50      0.50      0.50      6554\\nweighted avg       0.99      1.00      0.99      6554\\n',\n",
       " 'cat_3': '              precision    recall  f1-score   support\\n\\n           0       0.77      0.88      0.82      3863\\n           1       0.79      0.62      0.70      2691\\n\\n    accuracy                           0.78      6554\\n   macro avg       0.78      0.75      0.76      6554\\nweighted avg       0.78      0.78      0.77      6554\\n',\n",
       " 'cat_4': '              precision    recall  f1-score   support\\n\\n           0       0.92      1.00      0.96      6032\\n           1       0.72      0.06      0.10       522\\n\\n    accuracy                           0.92      6554\\n   macro avg       0.82      0.53      0.53      6554\\nweighted avg       0.91      0.92      0.89      6554\\n',\n",
       " 'cat_5': '              precision    recall  f1-score   support\\n\\n           0       0.95      1.00      0.98      6237\\n           1       0.63      0.06      0.11       317\\n\\n    accuracy                           0.95      6554\\n   macro avg       0.79      0.53      0.54      6554\\nweighted avg       0.94      0.95      0.93      6554\\n',\n",
       " 'cat_6': '              precision    recall  f1-score   support\\n\\n           0       0.97      1.00      0.99      6377\\n           1       0.60      0.03      0.06       177\\n\\n    accuracy                           0.97      6554\\n   macro avg       0.79      0.52      0.53      6554\\nweighted avg       0.96      0.97      0.96      6554\\n',\n",
       " 'cat_7': '              precision    recall  f1-score   support\\n\\n           0       0.98      1.00      0.99      6440\\n           1       0.50      0.01      0.02       114\\n\\n    accuracy                           0.98      6554\\n   macro avg       0.74      0.50      0.50      6554\\nweighted avg       0.97      0.98      0.97      6554\\n',\n",
       " 'cat_8': '              precision    recall  f1-score   support\\n\\n           0       0.97      1.00      0.99      6364\\n           1       0.67      0.06      0.12       190\\n\\n    accuracy                           0.97      6554\\n   macro avg       0.82      0.53      0.55      6554\\nweighted avg       0.96      0.97      0.96      6554\\n',\n",
       " 'cat_9': '              precision    recall  f1-score   support\\n\\n           0       1.00      1.00      1.00      6554\\n\\n    accuracy                           1.00      6554\\n   macro avg       1.00      1.00      1.00      6554\\nweighted avg       1.00      1.00      1.00      6554\\n',\n",
       " 'cat_10': '              precision    recall  f1-score   support\\n\\n           0       0.95      1.00      0.97      6125\\n           1       0.94      0.23      0.37       429\\n\\n    accuracy                           0.95      6554\\n   macro avg       0.95      0.61      0.67      6554\\nweighted avg       0.95      0.95      0.93      6554\\n',\n",
       " 'cat_11': '              precision    recall  f1-score   support\\n\\n           0       0.93      0.99      0.96      5825\\n           1       0.90      0.42      0.57       729\\n\\n    accuracy                           0.93      6554\\n   macro avg       0.92      0.71      0.77      6554\\nweighted avg       0.93      0.93      0.92      6554\\n',\n",
       " 'cat_12': '              precision    recall  f1-score   support\\n\\n           0       0.93      1.00      0.96      5973\\n           1       0.88      0.26      0.40       581\\n\\n    accuracy                           0.93      6554\\n   macro avg       0.91      0.63      0.68      6554\\nweighted avg       0.93      0.93      0.91      6554\\n',\n",
       " 'cat_13': '              precision    recall  f1-score   support\\n\\n           0       0.99      1.00      0.99      6467\\n           1       0.71      0.06      0.11        87\\n\\n    accuracy                           0.99      6554\\n   macro avg       0.85      0.53      0.55      6554\\nweighted avg       0.98      0.99      0.98      6554\\n',\n",
       " 'cat_14': '              precision    recall  f1-score   support\\n\\n           0       0.98      1.00      0.99      6400\\n           1       0.80      0.03      0.05       154\\n\\n    accuracy                           0.98      6554\\n   macro avg       0.89      0.51      0.52      6554\\nweighted avg       0.97      0.98      0.97      6554\\n',\n",
       " 'cat_15': '              precision    recall  f1-score   support\\n\\n           0       0.99      1.00      1.00      6492\\n           1       1.00      0.03      0.06        62\\n\\n    accuracy                           0.99      6554\\n   macro avg       1.00      0.52      0.53      6554\\nweighted avg       0.99      0.99      0.99      6554\\n',\n",
       " 'cat_16': '              precision    recall  f1-score   support\\n\\n           0       0.97      1.00      0.98      6343\\n           1       0.75      0.03      0.05       211\\n\\n    accuracy                           0.97      6554\\n   macro avg       0.86      0.51      0.52      6554\\nweighted avg       0.96      0.97      0.95      6554\\n',\n",
       " 'cat_17': '              precision    recall  f1-score   support\\n\\n           0       0.96      1.00      0.98      6253\\n           1       0.79      0.10      0.18       301\\n\\n    accuracy                           0.96      6554\\n   macro avg       0.88      0.55      0.58      6554\\nweighted avg       0.95      0.96      0.94      6554\\n',\n",
       " 'cat_18': '              precision    recall  f1-score   support\\n\\n           0       0.87      1.00      0.93      5710\\n           1       0.73      0.01      0.02       844\\n\\n    accuracy                           0.87      6554\\n   macro avg       0.80      0.50      0.48      6554\\nweighted avg       0.85      0.87      0.81      6554\\n',\n",
       " 'cat_19': '              precision    recall  f1-score   support\\n\\n           0       0.93      1.00      0.96      6104\\n           1       0.00      0.00      0.00       450\\n\\n    accuracy                           0.93      6554\\n   macro avg       0.47      0.50      0.48      6554\\nweighted avg       0.87      0.93      0.90      6554\\n',\n",
       " 'cat_20': '              precision    recall  f1-score   support\\n\\n           0       0.96      1.00      0.98      6252\\n           1       0.80      0.05      0.10       302\\n\\n    accuracy                           0.96      6554\\n   macro avg       0.88      0.53      0.54      6554\\nweighted avg       0.95      0.96      0.94      6554\\n',\n",
       " 'cat_21': '              precision    recall  f1-score   support\\n\\n           0       0.95      1.00      0.97      6204\\n           1       0.82      0.05      0.10       350\\n\\n    accuracy                           0.95      6554\\n   macro avg       0.88      0.53      0.54      6554\\nweighted avg       0.94      0.95      0.93      6554\\n',\n",
       " 'cat_22': '              precision    recall  f1-score   support\\n\\n           0       0.98      1.00      0.99      6422\\n           1       0.83      0.04      0.07       132\\n\\n    accuracy                           0.98      6554\\n   macro avg       0.91      0.52      0.53      6554\\nweighted avg       0.98      0.98      0.97      6554\\n',\n",
       " 'cat_23': '              precision    recall  f1-score   support\\n\\n           0       0.99      1.00      1.00      6513\\n           1       0.00      0.00      0.00        41\\n\\n    accuracy                           0.99      6554\\n   macro avg       0.50      0.50      0.50      6554\\nweighted avg       0.99      0.99      0.99      6554\\n',\n",
       " 'cat_24': '              precision    recall  f1-score   support\\n\\n           0       0.99      1.00      0.99      6474\\n           1       0.00      0.00      0.00        80\\n\\n    accuracy                           0.99      6554\\n   macro avg       0.49      0.50      0.50      6554\\nweighted avg       0.98      0.99      0.98      6554\\n',\n",
       " 'cat_25': '              precision    recall  f1-score   support\\n\\n           0       1.00      1.00      1.00      6531\\n           1       0.00      0.00      0.00        23\\n\\n    accuracy                           1.00      6554\\n   macro avg       0.50      0.50      0.50      6554\\nweighted avg       0.99      1.00      0.99      6554\\n',\n",
       " 'cat_26': '              precision    recall  f1-score   support\\n\\n           0       0.99      1.00      0.99      6472\\n           1       0.00      0.00      0.00        82\\n\\n    accuracy                           0.99      6554\\n   macro avg       0.49      0.50      0.50      6554\\nweighted avg       0.98      0.99      0.98      6554\\n',\n",
       " 'cat_27': '              precision    recall  f1-score   support\\n\\n           0       0.95      1.00      0.98      6251\\n           1       0.00      0.00      0.00       303\\n\\n    accuracy                           0.95      6554\\n   macro avg       0.48      0.50      0.49      6554\\nweighted avg       0.91      0.95      0.93      6554\\n',\n",
       " 'cat_28': '              precision    recall  f1-score   support\\n\\n           0       0.87      0.96      0.91      4738\\n           1       0.86      0.62      0.72      1816\\n\\n    accuracy                           0.87      6554\\n   macro avg       0.86      0.79      0.81      6554\\nweighted avg       0.86      0.87      0.86      6554\\n',\n",
       " 'cat_29': '              precision    recall  f1-score   support\\n\\n           0       0.94      1.00      0.97      6010\\n           1       0.91      0.34      0.50       544\\n\\n    accuracy                           0.94      6554\\n   macro avg       0.93      0.67      0.73      6554\\nweighted avg       0.94      0.94      0.93      6554\\n',\n",
       " 'cat_30': '              precision    recall  f1-score   support\\n\\n           0       0.94      0.99      0.97      5923\\n           1       0.82      0.46      0.59       631\\n\\n    accuracy                           0.94      6554\\n   macro avg       0.88      0.72      0.78      6554\\nweighted avg       0.93      0.94      0.93      6554\\n',\n",
       " 'cat_31': '              precision    recall  f1-score   support\\n\\n           0       0.99      1.00      1.00      6491\\n           1       0.50      0.02      0.03        63\\n\\n    accuracy                           0.99      6554\\n   macro avg       0.75      0.51      0.51      6554\\nweighted avg       0.99      0.99      0.99      6554\\n',\n",
       " 'cat_32': '              precision    recall  f1-score   support\\n\\n           0       0.97      0.99      0.98      5967\\n           1       0.87      0.74      0.80       587\\n\\n    accuracy                           0.97      6554\\n   macro avg       0.92      0.87      0.89      6554\\nweighted avg       0.97      0.97      0.97      6554\\n',\n",
       " 'cat_33': '              precision    recall  f1-score   support\\n\\n           0       0.98      1.00      0.99      6418\\n           1       0.73      0.06      0.11       136\\n\\n    accuracy                           0.98      6554\\n   macro avg       0.85      0.53      0.55      6554\\nweighted avg       0.98      0.98      0.97      6554\\n',\n",
       " 'cat_34': '              precision    recall  f1-score   support\\n\\n           0       0.95      1.00      0.97      6199\\n           1       0.40      0.01      0.01       355\\n\\n    accuracy                           0.95      6554\\n   macro avg       0.67      0.50      0.49      6554\\nweighted avg       0.92      0.95      0.92      6554\\n'}"
      ]
     },
     "execution_count": 15,
     "metadata": {},
     "output_type": "execute_result"
    }
   ],
   "source": [
    "result={}\n",
    "for i in range(predicted.shape[1]):\n",
    "    result['cat_'+str(i)]=classification_report(y_test[y_test.columns[i]], predicted[:,i])\n",
    "result"
   ]
  },
  {
   "cell_type": "markdown",
   "metadata": {},
   "source": [
    "### 6. Improve your model\n",
    "Use grid search to find better parameters. "
   ]
  },
  {
   "cell_type": "code",
   "execution_count": 16,
   "metadata": {},
   "outputs": [
    {
     "data": {
      "text/plain": [
       "{'memory': None,\n",
       " 'steps': [('vect',\n",
       "   CountVectorizer(tokenizer=<function tokenize at 0x2aaaee6bcf80>)),\n",
       "  ('tfidf', TfidfTransformer()),\n",
       "  ('MOC', MultiOutputClassifier(estimator=RandomForestClassifier()))],\n",
       " 'verbose': False,\n",
       " 'vect': CountVectorizer(tokenizer=<function tokenize at 0x2aaaee6bcf80>),\n",
       " 'tfidf': TfidfTransformer(),\n",
       " 'MOC': MultiOutputClassifier(estimator=RandomForestClassifier()),\n",
       " 'vect__analyzer': 'word',\n",
       " 'vect__binary': False,\n",
       " 'vect__decode_error': 'strict',\n",
       " 'vect__dtype': numpy.int64,\n",
       " 'vect__encoding': 'utf-8',\n",
       " 'vect__input': 'content',\n",
       " 'vect__lowercase': True,\n",
       " 'vect__max_df': 1.0,\n",
       " 'vect__max_features': None,\n",
       " 'vect__min_df': 1,\n",
       " 'vect__ngram_range': (1, 1),\n",
       " 'vect__preprocessor': None,\n",
       " 'vect__stop_words': None,\n",
       " 'vect__strip_accents': None,\n",
       " 'vect__token_pattern': '(?u)\\\\b\\\\w\\\\w+\\\\b',\n",
       " 'vect__tokenizer': <function __main__.tokenize(text)>,\n",
       " 'vect__vocabulary': None,\n",
       " 'tfidf__norm': 'l2',\n",
       " 'tfidf__smooth_idf': True,\n",
       " 'tfidf__sublinear_tf': False,\n",
       " 'tfidf__use_idf': True,\n",
       " 'MOC__estimator__bootstrap': True,\n",
       " 'MOC__estimator__ccp_alpha': 0.0,\n",
       " 'MOC__estimator__class_weight': None,\n",
       " 'MOC__estimator__criterion': 'gini',\n",
       " 'MOC__estimator__max_depth': None,\n",
       " 'MOC__estimator__max_features': 'auto',\n",
       " 'MOC__estimator__max_leaf_nodes': None,\n",
       " 'MOC__estimator__max_samples': None,\n",
       " 'MOC__estimator__min_impurity_decrease': 0.0,\n",
       " 'MOC__estimator__min_impurity_split': None,\n",
       " 'MOC__estimator__min_samples_leaf': 1,\n",
       " 'MOC__estimator__min_samples_split': 2,\n",
       " 'MOC__estimator__min_weight_fraction_leaf': 0.0,\n",
       " 'MOC__estimator__n_estimators': 100,\n",
       " 'MOC__estimator__n_jobs': None,\n",
       " 'MOC__estimator__oob_score': False,\n",
       " 'MOC__estimator__random_state': None,\n",
       " 'MOC__estimator__verbose': 0,\n",
       " 'MOC__estimator__warm_start': False,\n",
       " 'MOC__estimator': RandomForestClassifier(),\n",
       " 'MOC__n_jobs': None}"
      ]
     },
     "execution_count": 16,
     "metadata": {},
     "output_type": "execute_result"
    }
   ],
   "source": [
    "pipeline.get_params()"
   ]
  },
  {
   "cell_type": "code",
   "execution_count": 17,
   "metadata": {},
   "outputs": [
    {
     "name": "stdout",
     "output_type": "stream",
     "text": [
      "Fitting 3 folds for each of 12 candidates, totalling 36 fits\n",
      "[CV] MOC__estimator__criterion=gini, MOC__estimator__n_estimators=50, vect__max_features=None \n"
     ]
    },
    {
     "name": "stderr",
     "output_type": "stream",
     "text": [
      "[Parallel(n_jobs=1)]: Using backend SequentialBackend with 1 concurrent workers.\n"
     ]
    },
    {
     "name": "stdout",
     "output_type": "stream",
     "text": [
      "[CV]  MOC__estimator__criterion=gini, MOC__estimator__n_estimators=50, vect__max_features=None, total= 2.3min\n",
      "[CV] MOC__estimator__criterion=gini, MOC__estimator__n_estimators=50, vect__max_features=None \n"
     ]
    },
    {
     "name": "stderr",
     "output_type": "stream",
     "text": [
      "[Parallel(n_jobs=1)]: Done   1 out of   1 | elapsed:  2.3min remaining:    0.0s\n"
     ]
    },
    {
     "name": "stdout",
     "output_type": "stream",
     "text": [
      "[CV]  MOC__estimator__criterion=gini, MOC__estimator__n_estimators=50, vect__max_features=None, total= 2.3min\n",
      "[CV] MOC__estimator__criterion=gini, MOC__estimator__n_estimators=50, vect__max_features=None \n",
      "[CV]  MOC__estimator__criterion=gini, MOC__estimator__n_estimators=50, vect__max_features=None, total= 2.3min\n",
      "[CV] MOC__estimator__criterion=gini, MOC__estimator__n_estimators=50, vect__max_features=auto \n"
     ]
    },
    {
     "name": "stderr",
     "output_type": "stream",
     "text": [
      "/users/yanlingl/.conda/envs/yl_ML/lib/python3.7/site-packages/sklearn/model_selection/_validation.py:552: FitFailedWarning: Estimator fit failed. The score on this train-test partition for these parameters will be set to nan. Details: \n",
      "Traceback (most recent call last):\n",
      "  File \"/users/yanlingl/.conda/envs/yl_ML/lib/python3.7/site-packages/sklearn/model_selection/_validation.py\", line 531, in _fit_and_score\n",
      "    estimator.fit(X_train, y_train, **fit_params)\n",
      "  File \"/users/yanlingl/.conda/envs/yl_ML/lib/python3.7/site-packages/sklearn/pipeline.py\", line 330, in fit\n",
      "    Xt = self._fit(X, y, **fit_params_steps)\n",
      "  File \"/users/yanlingl/.conda/envs/yl_ML/lib/python3.7/site-packages/sklearn/pipeline.py\", line 296, in _fit\n",
      "    **fit_params_steps[name])\n",
      "  File \"/users/yanlingl/.conda/envs/yl_ML/lib/python3.7/site-packages/joblib/memory.py\", line 352, in __call__\n",
      "    return self.func(*args, **kwargs)\n",
      "  File \"/users/yanlingl/.conda/envs/yl_ML/lib/python3.7/site-packages/sklearn/pipeline.py\", line 740, in _fit_transform_one\n",
      "    res = transformer.fit_transform(X, y, **fit_params)\n",
      "  File \"/users/yanlingl/.conda/envs/yl_ML/lib/python3.7/site-packages/sklearn/feature_extraction/text.py\", line 1220, in fit_transform\n",
      "    max_features)\n",
      "  File \"/users/yanlingl/.conda/envs/yl_ML/lib/python3.7/site-packages/sklearn/feature_extraction/text.py\", line 1071, in _limit_features\n",
      "    if limit is not None and mask.sum() > limit:\n",
      "TypeError: '>' not supported between instances of 'numpy.ndarray' and 'str'\n",
      "\n",
      "  FitFailedWarning)\n"
     ]
    },
    {
     "name": "stdout",
     "output_type": "stream",
     "text": [
      "[CV]  MOC__estimator__criterion=gini, MOC__estimator__n_estimators=50, vect__max_features=auto, total=   5.0s\n",
      "[CV] MOC__estimator__criterion=gini, MOC__estimator__n_estimators=50, vect__max_features=auto \n",
      "[CV]  MOC__estimator__criterion=gini, MOC__estimator__n_estimators=50, vect__max_features=auto, total=   5.1s\n",
      "[CV] MOC__estimator__criterion=gini, MOC__estimator__n_estimators=50, vect__max_features=auto \n",
      "[CV]  MOC__estimator__criterion=gini, MOC__estimator__n_estimators=50, vect__max_features=auto, total=   5.1s\n",
      "[CV] MOC__estimator__criterion=gini, MOC__estimator__n_estimators=50, vect__max_features=5000 \n",
      "[CV]  MOC__estimator__criterion=gini, MOC__estimator__n_estimators=50, vect__max_features=5000, total= 1.8min\n",
      "[CV] MOC__estimator__criterion=gini, MOC__estimator__n_estimators=50, vect__max_features=5000 \n",
      "[CV]  MOC__estimator__criterion=gini, MOC__estimator__n_estimators=50, vect__max_features=5000, total= 1.8min\n",
      "[CV] MOC__estimator__criterion=gini, MOC__estimator__n_estimators=50, vect__max_features=5000 \n",
      "[CV]  MOC__estimator__criterion=gini, MOC__estimator__n_estimators=50, vect__max_features=5000, total= 1.7min\n",
      "[CV] MOC__estimator__criterion=gini, MOC__estimator__n_estimators=100, vect__max_features=None \n",
      "[CV]  MOC__estimator__criterion=gini, MOC__estimator__n_estimators=100, vect__max_features=None, total= 4.1min\n",
      "[CV] MOC__estimator__criterion=gini, MOC__estimator__n_estimators=100, vect__max_features=None \n",
      "[CV]  MOC__estimator__criterion=gini, MOC__estimator__n_estimators=100, vect__max_features=None, total= 4.4min\n",
      "[CV] MOC__estimator__criterion=gini, MOC__estimator__n_estimators=100, vect__max_features=None \n",
      "[CV]  MOC__estimator__criterion=gini, MOC__estimator__n_estimators=100, vect__max_features=None, total= 4.5min\n",
      "[CV] MOC__estimator__criterion=gini, MOC__estimator__n_estimators=100, vect__max_features=auto \n"
     ]
    },
    {
     "name": "stderr",
     "output_type": "stream",
     "text": [
      "/users/yanlingl/.conda/envs/yl_ML/lib/python3.7/site-packages/sklearn/model_selection/_validation.py:552: FitFailedWarning: Estimator fit failed. The score on this train-test partition for these parameters will be set to nan. Details: \n",
      "Traceback (most recent call last):\n",
      "  File \"/users/yanlingl/.conda/envs/yl_ML/lib/python3.7/site-packages/sklearn/model_selection/_validation.py\", line 531, in _fit_and_score\n",
      "    estimator.fit(X_train, y_train, **fit_params)\n",
      "  File \"/users/yanlingl/.conda/envs/yl_ML/lib/python3.7/site-packages/sklearn/pipeline.py\", line 330, in fit\n",
      "    Xt = self._fit(X, y, **fit_params_steps)\n",
      "  File \"/users/yanlingl/.conda/envs/yl_ML/lib/python3.7/site-packages/sklearn/pipeline.py\", line 296, in _fit\n",
      "    **fit_params_steps[name])\n",
      "  File \"/users/yanlingl/.conda/envs/yl_ML/lib/python3.7/site-packages/joblib/memory.py\", line 352, in __call__\n",
      "    return self.func(*args, **kwargs)\n",
      "  File \"/users/yanlingl/.conda/envs/yl_ML/lib/python3.7/site-packages/sklearn/pipeline.py\", line 740, in _fit_transform_one\n",
      "    res = transformer.fit_transform(X, y, **fit_params)\n",
      "  File \"/users/yanlingl/.conda/envs/yl_ML/lib/python3.7/site-packages/sklearn/feature_extraction/text.py\", line 1220, in fit_transform\n",
      "    max_features)\n",
      "  File \"/users/yanlingl/.conda/envs/yl_ML/lib/python3.7/site-packages/sklearn/feature_extraction/text.py\", line 1071, in _limit_features\n",
      "    if limit is not None and mask.sum() > limit:\n",
      "TypeError: '>' not supported between instances of 'numpy.ndarray' and 'str'\n",
      "\n",
      "  FitFailedWarning)\n"
     ]
    },
    {
     "name": "stdout",
     "output_type": "stream",
     "text": [
      "[CV]  MOC__estimator__criterion=gini, MOC__estimator__n_estimators=100, vect__max_features=auto, total=   5.0s\n",
      "[CV] MOC__estimator__criterion=gini, MOC__estimator__n_estimators=100, vect__max_features=auto \n",
      "[CV]  MOC__estimator__criterion=gini, MOC__estimator__n_estimators=100, vect__max_features=auto, total=   5.0s\n",
      "[CV] MOC__estimator__criterion=gini, MOC__estimator__n_estimators=100, vect__max_features=auto \n",
      "[CV]  MOC__estimator__criterion=gini, MOC__estimator__n_estimators=100, vect__max_features=auto, total=   5.1s\n",
      "[CV] MOC__estimator__criterion=gini, MOC__estimator__n_estimators=100, vect__max_features=5000 \n",
      "[CV]  MOC__estimator__criterion=gini, MOC__estimator__n_estimators=100, vect__max_features=5000, total= 3.5min\n",
      "[CV] MOC__estimator__criterion=gini, MOC__estimator__n_estimators=100, vect__max_features=5000 \n",
      "[CV]  MOC__estimator__criterion=gini, MOC__estimator__n_estimators=100, vect__max_features=5000, total= 3.3min\n",
      "[CV] MOC__estimator__criterion=gini, MOC__estimator__n_estimators=100, vect__max_features=5000 \n",
      "[CV]  MOC__estimator__criterion=gini, MOC__estimator__n_estimators=100, vect__max_features=5000, total= 3.5min\n",
      "[CV] MOC__estimator__criterion=entropy, MOC__estimator__n_estimators=50, vect__max_features=None \n",
      "[CV]  MOC__estimator__criterion=entropy, MOC__estimator__n_estimators=50, vect__max_features=None, total= 2.4min\n",
      "[CV] MOC__estimator__criterion=entropy, MOC__estimator__n_estimators=50, vect__max_features=None \n",
      "[CV]  MOC__estimator__criterion=entropy, MOC__estimator__n_estimators=50, vect__max_features=None, total= 2.4min\n",
      "[CV] MOC__estimator__criterion=entropy, MOC__estimator__n_estimators=50, vect__max_features=None \n",
      "[CV]  MOC__estimator__criterion=entropy, MOC__estimator__n_estimators=50, vect__max_features=None, total= 2.4min\n",
      "[CV] MOC__estimator__criterion=entropy, MOC__estimator__n_estimators=50, vect__max_features=auto \n"
     ]
    },
    {
     "name": "stderr",
     "output_type": "stream",
     "text": [
      "/users/yanlingl/.conda/envs/yl_ML/lib/python3.7/site-packages/sklearn/model_selection/_validation.py:552: FitFailedWarning: Estimator fit failed. The score on this train-test partition for these parameters will be set to nan. Details: \n",
      "Traceback (most recent call last):\n",
      "  File \"/users/yanlingl/.conda/envs/yl_ML/lib/python3.7/site-packages/sklearn/model_selection/_validation.py\", line 531, in _fit_and_score\n",
      "    estimator.fit(X_train, y_train, **fit_params)\n",
      "  File \"/users/yanlingl/.conda/envs/yl_ML/lib/python3.7/site-packages/sklearn/pipeline.py\", line 330, in fit\n",
      "    Xt = self._fit(X, y, **fit_params_steps)\n",
      "  File \"/users/yanlingl/.conda/envs/yl_ML/lib/python3.7/site-packages/sklearn/pipeline.py\", line 296, in _fit\n",
      "    **fit_params_steps[name])\n",
      "  File \"/users/yanlingl/.conda/envs/yl_ML/lib/python3.7/site-packages/joblib/memory.py\", line 352, in __call__\n",
      "    return self.func(*args, **kwargs)\n",
      "  File \"/users/yanlingl/.conda/envs/yl_ML/lib/python3.7/site-packages/sklearn/pipeline.py\", line 740, in _fit_transform_one\n",
      "    res = transformer.fit_transform(X, y, **fit_params)\n",
      "  File \"/users/yanlingl/.conda/envs/yl_ML/lib/python3.7/site-packages/sklearn/feature_extraction/text.py\", line 1220, in fit_transform\n",
      "    max_features)\n",
      "  File \"/users/yanlingl/.conda/envs/yl_ML/lib/python3.7/site-packages/sklearn/feature_extraction/text.py\", line 1071, in _limit_features\n",
      "    if limit is not None and mask.sum() > limit:\n",
      "TypeError: '>' not supported between instances of 'numpy.ndarray' and 'str'\n",
      "\n",
      "  FitFailedWarning)\n"
     ]
    },
    {
     "name": "stdout",
     "output_type": "stream",
     "text": [
      "[CV]  MOC__estimator__criterion=entropy, MOC__estimator__n_estimators=50, vect__max_features=auto, total=   5.0s\n",
      "[CV] MOC__estimator__criterion=entropy, MOC__estimator__n_estimators=50, vect__max_features=auto \n",
      "[CV]  MOC__estimator__criterion=entropy, MOC__estimator__n_estimators=50, vect__max_features=auto, total=   5.0s\n",
      "[CV] MOC__estimator__criterion=entropy, MOC__estimator__n_estimators=50, vect__max_features=auto \n",
      "[CV]  MOC__estimator__criterion=entropy, MOC__estimator__n_estimators=50, vect__max_features=auto, total=   5.0s\n",
      "[CV] MOC__estimator__criterion=entropy, MOC__estimator__n_estimators=50, vect__max_features=5000 \n",
      "[CV]  MOC__estimator__criterion=entropy, MOC__estimator__n_estimators=50, vect__max_features=5000, total= 1.9min\n",
      "[CV] MOC__estimator__criterion=entropy, MOC__estimator__n_estimators=50, vect__max_features=5000 \n",
      "[CV]  MOC__estimator__criterion=entropy, MOC__estimator__n_estimators=50, vect__max_features=5000, total= 2.0min\n",
      "[CV] MOC__estimator__criterion=entropy, MOC__estimator__n_estimators=50, vect__max_features=5000 \n",
      "[CV]  MOC__estimator__criterion=entropy, MOC__estimator__n_estimators=50, vect__max_features=5000, total= 1.9min\n",
      "[CV] MOC__estimator__criterion=entropy, MOC__estimator__n_estimators=100, vect__max_features=None \n",
      "[CV]  MOC__estimator__criterion=entropy, MOC__estimator__n_estimators=100, vect__max_features=None, total= 4.7min\n",
      "[CV] MOC__estimator__criterion=entropy, MOC__estimator__n_estimators=100, vect__max_features=None \n",
      "[CV]  MOC__estimator__criterion=entropy, MOC__estimator__n_estimators=100, vect__max_features=None, total= 4.8min\n",
      "[CV] MOC__estimator__criterion=entropy, MOC__estimator__n_estimators=100, vect__max_features=None \n",
      "[CV]  MOC__estimator__criterion=entropy, MOC__estimator__n_estimators=100, vect__max_features=None, total= 4.8min\n",
      "[CV] MOC__estimator__criterion=entropy, MOC__estimator__n_estimators=100, vect__max_features=auto \n"
     ]
    },
    {
     "name": "stderr",
     "output_type": "stream",
     "text": [
      "/users/yanlingl/.conda/envs/yl_ML/lib/python3.7/site-packages/sklearn/model_selection/_validation.py:552: FitFailedWarning: Estimator fit failed. The score on this train-test partition for these parameters will be set to nan. Details: \n",
      "Traceback (most recent call last):\n",
      "  File \"/users/yanlingl/.conda/envs/yl_ML/lib/python3.7/site-packages/sklearn/model_selection/_validation.py\", line 531, in _fit_and_score\n",
      "    estimator.fit(X_train, y_train, **fit_params)\n",
      "  File \"/users/yanlingl/.conda/envs/yl_ML/lib/python3.7/site-packages/sklearn/pipeline.py\", line 330, in fit\n",
      "    Xt = self._fit(X, y, **fit_params_steps)\n",
      "  File \"/users/yanlingl/.conda/envs/yl_ML/lib/python3.7/site-packages/sklearn/pipeline.py\", line 296, in _fit\n",
      "    **fit_params_steps[name])\n",
      "  File \"/users/yanlingl/.conda/envs/yl_ML/lib/python3.7/site-packages/joblib/memory.py\", line 352, in __call__\n",
      "    return self.func(*args, **kwargs)\n",
      "  File \"/users/yanlingl/.conda/envs/yl_ML/lib/python3.7/site-packages/sklearn/pipeline.py\", line 740, in _fit_transform_one\n",
      "    res = transformer.fit_transform(X, y, **fit_params)\n",
      "  File \"/users/yanlingl/.conda/envs/yl_ML/lib/python3.7/site-packages/sklearn/feature_extraction/text.py\", line 1220, in fit_transform\n",
      "    max_features)\n",
      "  File \"/users/yanlingl/.conda/envs/yl_ML/lib/python3.7/site-packages/sklearn/feature_extraction/text.py\", line 1071, in _limit_features\n",
      "    if limit is not None and mask.sum() > limit:\n",
      "TypeError: '>' not supported between instances of 'numpy.ndarray' and 'str'\n",
      "\n",
      "  FitFailedWarning)\n"
     ]
    },
    {
     "name": "stdout",
     "output_type": "stream",
     "text": [
      "[CV]  MOC__estimator__criterion=entropy, MOC__estimator__n_estimators=100, vect__max_features=auto, total=   5.0s\n",
      "[CV] MOC__estimator__criterion=entropy, MOC__estimator__n_estimators=100, vect__max_features=auto \n",
      "[CV]  MOC__estimator__criterion=entropy, MOC__estimator__n_estimators=100, vect__max_features=auto, total=   5.0s\n",
      "[CV] MOC__estimator__criterion=entropy, MOC__estimator__n_estimators=100, vect__max_features=auto \n",
      "[CV]  MOC__estimator__criterion=entropy, MOC__estimator__n_estimators=100, vect__max_features=auto, total=   5.1s\n",
      "[CV] MOC__estimator__criterion=entropy, MOC__estimator__n_estimators=100, vect__max_features=5000 \n",
      "[CV]  MOC__estimator__criterion=entropy, MOC__estimator__n_estimators=100, vect__max_features=5000, total= 3.8min\n",
      "[CV] MOC__estimator__criterion=entropy, MOC__estimator__n_estimators=100, vect__max_features=5000 \n",
      "[CV]  MOC__estimator__criterion=entropy, MOC__estimator__n_estimators=100, vect__max_features=5000, total= 3.8min\n",
      "[CV] MOC__estimator__criterion=entropy, MOC__estimator__n_estimators=100, vect__max_features=5000 \n",
      "[CV]  MOC__estimator__criterion=entropy, MOC__estimator__n_estimators=100, vect__max_features=5000, total= 3.8min\n"
     ]
    },
    {
     "name": "stderr",
     "output_type": "stream",
     "text": [
      "[Parallel(n_jobs=1)]: Done  36 out of  36 | elapsed: 75.2min finished\n"
     ]
    },
    {
     "name": "stdout",
     "output_type": "stream",
     "text": [
      "CPU times: user 1h 21min 1s, sys: 5.57 s, total: 1h 21min 6s\n",
      "Wall time: 1h 21min 6s\n"
     ]
    },
    {
     "data": {
      "text/plain": [
       "GridSearchCV(cv=3,\n",
       "             estimator=Pipeline(steps=[('vect',\n",
       "                                        CountVectorizer(tokenizer=<function tokenize at 0x2aaaee6bcf80>)),\n",
       "                                       ('tfidf', TfidfTransformer()),\n",
       "                                       ('MOC',\n",
       "                                        MultiOutputClassifier(estimator=RandomForestClassifier()))]),\n",
       "             param_grid={'MOC__estimator__criterion': ['gini', 'entropy'],\n",
       "                         'MOC__estimator__n_estimators': [50, 100],\n",
       "                         'vect__max_features': [None, 'auto', 5000]},\n",
       "             scoring='f1_micro', verbose=2)"
      ]
     },
     "execution_count": 17,
     "metadata": {},
     "output_type": "execute_result"
    }
   ],
   "source": [
    "%%time\n",
    "parameters = {\n",
    "    'MOC__estimator__n_estimators': [50,100],\n",
    "    'MOC__estimator__criterion':['gini','entropy'] ,#MOC__criterion\n",
    "    'vect__max_features': [None,'auto', 5000]\n",
    "}\n",
    "\n",
    "cv =  GridSearchCV(pipeline, parameters,  cv=3, verbose=2, scoring='f1_micro') #scoring='f1_micro',, n_jobs=-1\n",
    "cv.fit(X_train, y_train)\n"
   ]
  },
  {
   "cell_type": "code",
   "execution_count": null,
   "metadata": {},
   "outputs": [],
   "source": []
  },
  {
   "cell_type": "markdown",
   "metadata": {},
   "source": [
    "### 7. Test your model\n",
    "Show the accuracy, precision, and recall of the tuned model.  \n",
    "\n",
    "Since this project focuses on code quality, process, and  pipelines, there is no minimum performance metric needed to pass. However, make sure to fine tune your models for accuracy, precision and recall to make your project stand out - especially for your portfolio!"
   ]
  },
  {
   "cell_type": "code",
   "execution_count": 18,
   "metadata": {},
   "outputs": [
    {
     "data": {
      "text/plain": [
       "0.9513448711800864"
      ]
     },
     "execution_count": 18,
     "metadata": {},
     "output_type": "execute_result"
    }
   ],
   "source": [
    "y_pred = cv.predict(X_test)\n",
    "overall_accuracy = (y_pred == y_test).mean().mean()\n",
    "overall_accuracy"
   ]
  },
  {
   "cell_type": "code",
   "execution_count": 19,
   "metadata": {},
   "outputs": [
    {
     "name": "stdout",
     "output_type": "stream",
     "text": [
      "                        precision    recall  f1-score   support\n",
      "\n",
      "               related       0.81      0.97      0.88      4984\n",
      "               request       0.90      0.46      0.61      1134\n",
      "                 offer       0.00      0.00      0.00        29\n",
      "           aid_related       0.76      0.65      0.70      2691\n",
      "          medical_help       0.74      0.10      0.18       522\n",
      "      medical_products       0.78      0.16      0.27       317\n",
      "     search_and_rescue       0.66      0.12      0.20       177\n",
      "              security       0.33      0.01      0.02       114\n",
      "              military       0.63      0.14      0.23       190\n",
      "           child_alone       0.00      0.00      0.00         0\n",
      "                 water       0.90      0.40      0.55       429\n",
      "                  food       0.87      0.59      0.70       729\n",
      "               shelter       0.84      0.45      0.59       581\n",
      "              clothing       0.75      0.10      0.18        87\n",
      "                 money       0.60      0.02      0.04       154\n",
      "        missing_people       1.00      0.05      0.09        62\n",
      "              refugees       0.62      0.05      0.09       211\n",
      "                 death       0.74      0.29      0.42       301\n",
      "             other_aid       0.73      0.02      0.04       844\n",
      "infrastructure_related       0.00      0.00      0.00       450\n",
      "             transport       0.73      0.14      0.23       302\n",
      "             buildings       0.80      0.11      0.19       350\n",
      "           electricity       0.86      0.05      0.09       132\n",
      "                 tools       0.00      0.00      0.00        41\n",
      "             hospitals       0.00      0.00      0.00        80\n",
      "                 shops       0.00      0.00      0.00        23\n",
      "           aid_centers       0.00      0.00      0.00        82\n",
      "  other_infrastructure       0.00      0.00      0.00       303\n",
      "       weather_related       0.84      0.69      0.76      1816\n",
      "                floods       0.92      0.50      0.65       544\n",
      "                 storm       0.78      0.61      0.68       631\n",
      "                  fire       0.80      0.06      0.12        63\n",
      "            earthquake       0.88      0.80      0.84       587\n",
      "                  cold       0.67      0.13      0.22       136\n",
      "         other_weather       0.50      0.02      0.04       355\n",
      "\n",
      "             micro avg       0.82      0.55      0.66     19451\n",
      "             macro avg       0.58      0.22      0.27     19451\n",
      "          weighted avg       0.76      0.55      0.59     19451\n",
      "           samples avg       0.68      0.50      0.53     19451\n",
      "\n"
     ]
    },
    {
     "name": "stderr",
     "output_type": "stream",
     "text": [
      "/users/yanlingl/.conda/envs/yl_ML/lib/python3.7/site-packages/sklearn/metrics/_classification.py:1221: UndefinedMetricWarning: Precision and F-score are ill-defined and being set to 0.0 in labels with no predicted samples. Use `zero_division` parameter to control this behavior.\n",
      "  _warn_prf(average, modifier, msg_start, len(result))\n",
      "/users/yanlingl/.conda/envs/yl_ML/lib/python3.7/site-packages/sklearn/metrics/_classification.py:1221: UndefinedMetricWarning: Recall and F-score are ill-defined and being set to 0.0 in labels with no true samples. Use `zero_division` parameter to control this behavior.\n",
      "  _warn_prf(average, modifier, msg_start, len(result))\n",
      "/users/yanlingl/.conda/envs/yl_ML/lib/python3.7/site-packages/sklearn/metrics/_classification.py:1221: UndefinedMetricWarning: Precision and F-score are ill-defined and being set to 0.0 in samples with no predicted labels. Use `zero_division` parameter to control this behavior.\n",
      "  _warn_prf(average, modifier, msg_start, len(result))\n",
      "/users/yanlingl/.conda/envs/yl_ML/lib/python3.7/site-packages/sklearn/metrics/_classification.py:1221: UndefinedMetricWarning: Recall and F-score are ill-defined and being set to 0.0 in samples with no true labels. Use `zero_division` parameter to control this behavior.\n",
      "  _warn_prf(average, modifier, msg_start, len(result))\n"
     ]
    }
   ],
   "source": [
    "print(classification_report(y_test.values, y_pred, target_names=Y.columns.values))"
   ]
  },
  {
   "cell_type": "code",
   "execution_count": 20,
   "metadata": {},
   "outputs": [
    {
     "name": "stdout",
     "output_type": "stream",
     "text": [
      "['related']\n"
     ]
    }
   ],
   "source": [
    "msg = ['Help! I was trapped in my apartment there is fire ']\n",
    "test_output = cv.predict(msg)\n",
    "print(y_train.columns.values[(test_output.flatten()==1)])"
   ]
  },
  {
   "cell_type": "markdown",
   "metadata": {},
   "source": [
    "### 8. Try improving your model further. Here are a few ideas:\n",
    "* try other machine learning algorithms\n",
    "* add other features besides the TF-IDF"
   ]
  },
  {
   "cell_type": "code",
   "execution_count": 21,
   "metadata": {},
   "outputs": [
    {
     "data": {
      "text/plain": [
       "{'MOC__estimator__criterion': 'gini',\n",
       " 'MOC__estimator__n_estimators': 100,\n",
       " 'vect__max_features': 5000}"
      ]
     },
     "execution_count": 21,
     "metadata": {},
     "output_type": "execute_result"
    }
   ],
   "source": [
    "cv.best_params_"
   ]
  },
  {
   "cell_type": "markdown",
   "metadata": {},
   "source": [
    "### 9. Export your model as a pickle file"
   ]
  },
  {
   "cell_type": "code",
   "execution_count": 22,
   "metadata": {},
   "outputs": [],
   "source": [
    "import pickle\n",
    "filename = 'model.pkl'\n",
    "pickle.dump(cv, open(filename, 'wb'))"
   ]
  },
  {
   "cell_type": "markdown",
   "metadata": {},
   "source": [
    "### 10. Use this notebook to complete `train.py`\n",
    "Use the template file attached in the Resources folder to write a script that runs the steps above to create a database and export a model based on a new dataset specified by the user."
   ]
  },
  {
   "cell_type": "code",
   "execution_count": 37,
   "metadata": {},
   "outputs": [
    {
     "name": "stdout",
     "output_type": "stream",
     "text": [
      "CPU times: user 1h 5s, sys: 1.06 s, total: 1h 6s\n",
      "Wall time: 1h 6s\n"
     ]
    },
    {
     "data": {
      "text/plain": [
       "Pipeline(steps=[('vect',\n",
       "                 CountVectorizer(tokenizer=<function tokenize at 0x2aaaf62079e0>)),\n",
       "                ('tfidf', TfidfTransformer()),\n",
       "                ('MOC',\n",
       "                 MultiOutputClassifier(estimator=RandomForestClassifier(max_features=5000)))])"
      ]
     },
     "execution_count": 37,
     "metadata": {},
     "output_type": "execute_result"
    }
   ],
   "source": [
    "%%time\n",
    "# It takes far longer than the default setting to train...\n",
    "pipeline2 = Pipeline([('vect',CountVectorizer(tokenizer=tokenize)),\n",
    "                         ('tfidf',TfidfTransformer()),\n",
    "                         ('MOC', MultiOutputClassifier(RandomForestClassifier(criterion= 'gini', n_estimators= 100, max_features=5000)))])\n",
    "pipeline2.fit(X_train, y_train)"
   ]
  },
  {
   "cell_type": "code",
   "execution_count": null,
   "metadata": {},
   "outputs": [],
   "source": []
  }
 ],
 "metadata": {
  "kernelspec": {
   "display_name": "Python 3 (ipykernel)",
   "language": "python",
   "name": "python3"
  },
  "language_info": {
   "codemirror_mode": {
    "name": "ipython",
    "version": 3
   },
   "file_extension": ".py",
   "mimetype": "text/x-python",
   "name": "python",
   "nbconvert_exporter": "python",
   "pygments_lexer": "ipython3",
   "version": "3.7.11"
  }
 },
 "nbformat": 4,
 "nbformat_minor": 4
}
